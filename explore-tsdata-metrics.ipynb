{
 "cells": [
  {
   "cell_type": "code",
   "execution_count": 25,
   "metadata": {},
   "outputs": [],
   "source": [
    "import datetime\n",
    "import numpy as np\n",
    "import pandas as pd\n",
    "import matplotlib.pyplot as plt\n",
    "\n",
    "plt.rc('font', size=15)\n",
    "plt.style.use('dark_background')"
   ]
  },
  {
   "cell_type": "markdown",
   "metadata": {},
   "source": [
    "- total confirmed cases\n",
    "- total deaths\n",
    "- (total active/recovered)\n",
    "- total vaccinations"
   ]
  },
  {
   "cell_type": "markdown",
   "metadata": {},
   "source": [
    "# Time series data"
   ]
  },
  {
   "cell_type": "code",
   "execution_count": 29,
   "metadata": {},
   "outputs": [],
   "source": [
    "# dfs = [read (from string list)]\n",
    "dfc = pd.read_csv(\"./data/corona_confirmed_ts_22-01-2022.csv\", parse_dates=True)  # infection data\n",
    "dfd = pd.read_csv(\"./data/corona_deaths_ts_22-01-2022.csv\", parse_dates=True)  # deaths\n",
    "dfr = pd.read_csv(\"./data/corona_recovered_ts_22-01-2022.csv\", parse_dates=True)  # recovered\n",
    "\n",
    "ts_min = 4  # measurements begin\n",
    "t = dfc.columns.tolist()[ts_min:]\n",
    "\n",
    "dfc = dfc.groupby(by=\"Country/Region\").sum()\n",
    "#dfc = dfc.reset_index()\n",
    "\n",
    "dfd = dfd.groupby(by=\"Country/Region\").sum()\n",
    "#dfd = dfd.reset_index()\n",
    "\n",
    "dfr = dfr.groupby(by=\"Country/Region\").sum()\n",
    "#dfr = dfr.reset_index()"
   ]
  },
  {
   "cell_type": "code",
   "execution_count": 30,
   "metadata": {},
   "outputs": [
    {
     "data": {
      "text/plain": [
       "128409040"
      ]
     },
     "execution_count": 30,
     "metadata": {},
     "output_type": "execute_result"
    }
   ],
   "source": [
    "dfr.loc[:, t[-180]].sum()"
   ]
  },
  {
   "cell_type": "code",
   "execution_count": 31,
   "metadata": {},
   "outputs": [
    {
     "name": "stdout",
     "output_type": "stream",
     "text": [
      "349.135 2.67\n",
      "5.592 0.006\n",
      "128.409 0.346\n"
     ]
    }
   ],
   "source": [
    "recov_idx = -180\n",
    "denom = 3\n",
    "\n",
    "conf = np.round(dfc.loc[:, t[-1]].sum() / 1e6, denom)\n",
    "dconf = np.round((dfc.loc[:, t[-1]].sum() - dfc.loc[:, t[-2]].sum()) / 1e6, denom)\n",
    "\n",
    "deaths = np.round(dfd.loc[:, t[-1]].sum() / 1e6, denom)\n",
    "ddeaths = np.round((dfd.loc[:, t[-1]].sum() - dfd.loc[:, t[-2]].sum()) / 1e6, denom)\n",
    "\n",
    "recov = np.round(dfr.loc[:, t[recov_idx]].sum() / 1e6, denom)\n",
    "drecov = np.round((dfr.loc[:, t[recov_idx]].sum() - dfr.loc[:, t[recov_idx-1]].sum()) / 1e6, denom)\n",
    "\n",
    "# Recovered is actually kind of unclear (maybe more sense when \"active\" cases are considered)\n",
    "print(conf, dconf)\n",
    "print(deaths, ddeaths)\n",
    "print(recov, drecov)"
   ]
  },
  {
   "cell_type": "code",
   "execution_count": null,
   "metadata": {},
   "outputs": [],
   "source": []
  }
 ],
 "metadata": {
  "interpreter": {
   "hash": "aee8b7b246df8f9039afb4144a1f6fd8d2ca17a180786b69acc140d282b71a49"
  },
  "kernelspec": {
   "display_name": "Python 3.10.1 64-bit",
   "language": "python",
   "name": "python3"
  },
  "language_info": {
   "codemirror_mode": {
    "name": "ipython",
    "version": 3
   },
   "file_extension": ".py",
   "mimetype": "text/x-python",
   "name": "python",
   "nbconvert_exporter": "python",
   "pygments_lexer": "ipython3",
   "version": "3.10.1"
  },
  "orig_nbformat": 4
 },
 "nbformat": 4,
 "nbformat_minor": 2
}
